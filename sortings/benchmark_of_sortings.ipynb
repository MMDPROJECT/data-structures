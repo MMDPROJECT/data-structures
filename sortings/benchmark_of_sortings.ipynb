{
 "cells": [
  {
   "cell_type": "markdown",
   "metadata": {},
   "source": [
    "# Examining the performance of sorting algorithms"
   ]
  },
  {
   "cell_type": "code",
   "execution_count": 1,
   "metadata": {},
   "outputs": [],
   "source": [
    "import matplotlib.pyplot as plt\n",
    "import randArrGen, time\n",
    "import bubbleSort, heapSort, quickSort, mergeSort, countingSort, radixSort, insertionSort, bucketSort"
   ]
  },
  {
   "cell_type": "markdown",
   "metadata": {},
   "source": [
    "## How the examination is being done?\n",
    "\n",
    "- In order to see how is sorting algorithms performance, I test each algorithm for lists of sizes 1000, 2000, ... up to 15000. however, there may be some error and noise during the process of sorting, so I made 3 lists of each size and then calculated the average of the sorting times.\n",
    "\n",
    "- **Note: The time it takes for each sorting algorithm to finish, highly depends on the system resources; So based on your resources, your numbers and timings might differ from what I have obtained. I should mention that I have tested and ran all these algorithms in a system with 8GBs of RAM and Intel Core i7 gen 7 CPU.**"
   ]
  },
  {
   "cell_type": "code",
   "execution_count": 23,
   "metadata": {},
   "outputs": [],
   "source": [
    "lists = {} # Dictionary of lists with their length as key, and 3 lists of that length as value\n",
    "\n",
    "for i in range(1,16):\n",
    "    lists[i*10**3] = [randArrGen.random_list(i * 10**3, 0, i * 10**3) for j in range(3)]"
   ]
  },
  {
   "cell_type": "markdown",
   "metadata": {},
   "source": [
    "## Basic sorting ideas: sorting in O(n^2)\n",
    "\n",
    "- First we see how bubble sort and insertion sort perform. These are some of the most basic sorting ideas which sort the given array in O(n^2)\n",
    "\n",
    "- However, I should mention that for a modified version of bubble sort, the best case scenario is O(n) which is basically a sorted array."
   ]
  },
  {
   "cell_type": "code",
   "execution_count": 3,
   "metadata": {},
   "outputs": [
    {
     "name": "stdout",
     "output_type": "stream",
     "text": [
      "Time of sorting array of length 1000: 0.09112135569254558\n",
      "Time of sorting array of length 2000: 0.2304688294728597\n",
      "Time of sorting array of length 3000: 0.4340243339538574\n",
      "Time of sorting array of length 4000: 0.7604215145111084\n",
      "Time of sorting array of length 5000: 1.3505273660024006\n",
      "Time of sorting array of length 6000: 1.7165841261545818\n",
      "Time of sorting array of length 7000: 2.37127947807312\n",
      "Time of sorting array of length 8000: 3.1394333044687905\n",
      "Time of sorting array of length 9000: 3.894075870513916\n",
      "Time of sorting array of length 10000: 4.791569153467814\n",
      "Time of sorting array of length 11000: 5.839078028996785\n",
      "Time of sorting array of length 12000: 7.278539260228475\n",
      "Time of sorting array of length 13000: 8.76994506518046\n",
      "Time of sorting array of length 14000: 9.986210743586222\n",
      "Time of sorting array of length 15000: 11.569778442382812\n"
     ]
    }
   ],
   "source": [
    "bubble_sort_times = []\n",
    "for i in lists.keys():\n",
    "    length_lists = lists[i]\n",
    "    temp_times = []\n",
    "    \n",
    "    for j in length_lists:\n",
    "        temp = j.copy()\n",
    "        \n",
    "        start = time.time()\n",
    "        bubbleSort.bubble_sort(temp, i)\n",
    "        end = time.time()\n",
    "        \n",
    "        temp_times.append(end-start)\n",
    "        \n",
    "    avr_time = sum(temp_times)/3\n",
    "    bubble_sort_times.append(avr_time) \n",
    "    print(f\"Time of sorting array of length {i}: {avr_time}\")"
   ]
  },
  {
   "cell_type": "code",
   "execution_count": 5,
   "metadata": {},
   "outputs": [
    {
     "name": "stdout",
     "output_type": "stream",
     "text": [
      "Time of sorting array of length 1000: 0.1246332327524821\n",
      "Time of sorting array of length 2000: 0.21883098284403482\n",
      "Time of sorting array of length 3000: 0.45932801564534503\n",
      "Time of sorting array of length 4000: 0.7157437006632487\n",
      "Time of sorting array of length 5000: 1.1219213803609211\n",
      "Time of sorting array of length 6000: 1.5932803948720295\n",
      "Time of sorting array of length 7000: 2.33077605565389\n",
      "Time of sorting array of length 8000: 2.9141313234965005\n",
      "Time of sorting array of length 9000: 3.7201741536458335\n",
      "Time of sorting array of length 10000: 4.585692962010701\n",
      "Time of sorting array of length 11000: 5.337906042734782\n",
      "Time of sorting array of length 12000: 6.583709319432576\n",
      "Time of sorting array of length 13000: 8.088592767715454\n",
      "Time of sorting array of length 14000: 9.403437534968058\n",
      "Time of sorting array of length 15000: 10.607149759928385\n"
     ]
    }
   ],
   "source": [
    "insertion_sort_times = []\n",
    "for i in lists.keys():\n",
    "    length_lists = lists[i]\n",
    "    temp_times = []\n",
    "    \n",
    "    for j in length_lists:\n",
    "        temp = j.copy()\n",
    "        \n",
    "        start = time.time()\n",
    "        insertionSort.insertion_sort(temp, i)\n",
    "        end = time.time()\n",
    "        \n",
    "        temp_times.append(end-start)\n",
    "        \n",
    "    avr_time = sum(temp_times)/3\n",
    "    insertion_sort_times.append(avr_time) \n",
    "    print(f\"Time of sorting array of length {i}: {avr_time}\")"
   ]
  },
  {
   "cell_type": "code",
   "execution_count": 6,
   "metadata": {},
   "outputs": [
    {
     "data": {
      "image/png": "[encoded data removed]",
      "text/plain": [
       "<Figure size 432x288 with 1 Axes>"
      ]
     },
     "metadata": {
      "needs_background": "light"
     },
     "output_type": "display_data"
    }
   ],
   "source": [
    "plt.plot(lists.keys(), insertion_sort_times, 'r')\n",
    "plt.plot(lists.keys(), bubble_sort_times, 'b')\n",
    "plt.legend([\"Insertion sort\", \"Bubble sort\"])\n",
    "plt.xlabel(\"Size of array\")\n",
    "plt.ylabel(\"Time\")\n",
    "plt.title(\"Basic sorting ideas (n^2)\")\n",
    "plt.show()"
   ]
  },
  {
   "cell_type": "markdown",
   "metadata": {},
   "source": [
    "- As it can be seen above, these two sorting algorithms have pretty much a quadratic form, as we expected.\n",
    "\n",
    "- We now move on to some better algorithms of O(n*log(n))"
   ]
  },
  {
   "cell_type": "markdown",
   "metadata": {},
   "source": [
    "## Better sortings (O(n*log(n)))\n",
    "\n",
    "- Before going any further, there is a problem that has to be dealt with: These algorithms are substantially faster than pervious ones, which causes a lot of noise and error in the timing, as it can be seen in the plot below."
   ]
  },
  {
   "cell_type": "code",
   "execution_count": 24,
   "metadata": {},
   "outputs": [
    {
     "name": "stdout",
     "output_type": "stream",
     "text": [
      "Time of sorting array of length 1000: 0.013531923294067383\n",
      "Time of sorting array of length 2000: 0.016276439030965168\n",
      "Time of sorting array of length 3000: 0.04842185974121094\n",
      "Time of sorting array of length 4000: 0.051923672358194985\n",
      "Time of sorting array of length 5000: 0.05372262001037598\n",
      "Time of sorting array of length 6000: 0.03318969408671061\n",
      "Time of sorting array of length 7000: 0.041094303131103516\n",
      "Time of sorting array of length 8000: 0.05040407180786133\n",
      "Time of sorting array of length 9000: 0.05167833964029948\n",
      "Time of sorting array of length 10000: 0.06572119394938152\n",
      "Time of sorting array of length 11000: 0.06887880961100261\n",
      "Time of sorting array of length 12000: 0.07467238108317058\n",
      "Time of sorting array of length 13000: 0.07237044970194499\n",
      "Time of sorting array of length 14000: 0.08916592597961426\n",
      "Time of sorting array of length 15000: 0.09595791498819987\n"
     ]
    }
   ],
   "source": [
    "merge_sort_times = []\n",
    "for i in lists.keys():\n",
    "    length_lists = lists[i]\n",
    "    temp_times = []\n",
    "    \n",
    "    for j in length_lists:\n",
    "        temp = j.copy()\n",
    "        \n",
    "        start = time.time()\n",
    "        mergeSort.mergeSort(temp, 0, i-1)\n",
    "        end = time.time()\n",
    "        \n",
    "        temp_times.append(end-start)\n",
    "        \n",
    "    avr_time = sum(temp_times)/3\n",
    "    merge_sort_times.append(avr_time) \n",
    "    print(f\"Time of sorting array of length {i}: {avr_time}\")"
   ]
  },
  {
   "cell_type": "code",
   "execution_count": 25,
   "metadata": {},
   "outputs": [
    {
     "data": {
      "image/png": "[encoded data removed]",
      "text/plain": [
       "<Figure size 432x288 with 1 Axes>"
      ]
     },
     "metadata": {
      "needs_background": "light"
     },
     "output_type": "display_data"
    }
   ],
   "source": [
    "plt.plot(lists.keys(), merge_sort_times, 'g')\n",
    "plt.xlabel(\"Size of array\")\n",
    "plt.ylabel(\"Time\")\n",
    "plt.title(\"Merge sort (small test cases)\")\n",
    "plt.show()"
   ]
  },
  {
   "cell_type": "markdown",
   "metadata": {},
   "source": [
    "- When we use small test cases, the time it takes for these fast algorithms to perform the main task becomes insignificant and the timing would be highly effected by other factors like CPU overheads, other processes of OS, and lots of other factors (which I like to call them Noise).\n",
    "\n",
    "- In order to solve this problem, I have increased the size of arrays by a factor of 10. Basically adding another zero :) "
   ]
  },
  {
   "cell_type": "code",
   "execution_count": 13,
   "metadata": {},
   "outputs": [],
   "source": [
    "lists = {} # Dictionary of lists with their length as key, and 3 lists of that length as value\n",
    "\n",
    "for i in range(1,16):\n",
    "    lists[i*10**4] = [randArrGen.random_list(i * 10**4, 0, i * 10**4) for j in range(3)]"
   ]
  },
  {
   "cell_type": "code",
   "execution_count": 10,
   "metadata": {},
   "outputs": [
    {
     "name": "stdout",
     "output_type": "stream",
     "text": [
      "Time of sorting array of length 10000: 0.10261225700378418\n",
      "Time of sorting array of length 20000: 0.14940388997395834\n",
      "Time of sorting array of length 30000: 0.20868643124898276\n",
      "Time of sorting array of length 40000: 0.26280927658081055\n",
      "Time of sorting array of length 50000: 0.3859533468882243\n",
      "Time of sorting array of length 60000: 0.4251643816630046\n",
      "Time of sorting array of length 70000: 0.49413394927978516\n",
      "Time of sorting array of length 80000: 0.598909060160319\n",
      "Time of sorting array of length 90000: 0.644964853922526\n",
      "Time of sorting array of length 100000: 0.7233325640360514\n",
      "Time of sorting array of length 110000: 0.839012622833252\n",
      "Time of sorting array of length 120000: 0.9081676006317139\n",
      "Time of sorting array of length 130000: 0.9780561923980713\n",
      "Time of sorting array of length 140000: 1.024504820505778\n",
      "Time of sorting array of length 150000: 1.1089136600494385\n"
     ]
    }
   ],
   "source": [
    "merge_sort_times = []\n",
    "for i in lists.keys():\n",
    "    length_lists = lists[i]\n",
    "    temp_times = []\n",
    "    \n",
    "    for j in length_lists:\n",
    "        temp = j.copy()\n",
    "        \n",
    "        start = time.time()\n",
    "        mergeSort.mergeSort(temp, 0, i-1)\n",
    "        end = time.time()\n",
    "        \n",
    "        temp_times.append(end-start)\n",
    "        \n",
    "    avr_time = sum(temp_times)/3\n",
    "    merge_sort_times.append(avr_time) \n",
    "    print(f\"Time of sorting array of length {i}: {avr_time}\")"
   ]
  },
  {
   "cell_type": "code",
   "execution_count": 11,
   "metadata": {},
   "outputs": [
    {
     "data": {
      "image/png": "[encoded data removed]",
      "text/plain": [
       "<Figure size 432x288 with 1 Axes>"
      ]
     },
     "metadata": {
      "needs_background": "light"
     },
     "output_type": "display_data"
    }
   ],
   "source": [
    "plt.plot(lists.keys(), merge_sort_times, 'g')\n",
    "plt.xlabel(\"Size of array\")\n",
    "plt.ylabel(\"Time\")\n",
    "plt.title(\"Merge sort (bigger test cases)\")\n",
    "plt.show()"
   ]
  },
  {
   "cell_type": "markdown",
   "metadata": {},
   "source": [
    "- As it can be seen in the plot above, the line is much more smoother and we have reduced the noise by increasing the size of test cases.\n",
    "\n",
    "- Now we examine our better sorting algorithms."
   ]
  },
  {
   "cell_type": "code",
   "execution_count": 14,
   "metadata": {},
   "outputs": [
    {
     "name": "stdout",
     "output_type": "stream",
     "text": [
      "Time of sorting array of length 10000: 0.19340944290161133\n",
      "Time of sorting array of length 20000: 0.20038771629333496\n",
      "Time of sorting array of length 30000: 0.3274623552958171\n",
      "Time of sorting array of length 40000: 0.46628721555074054\n",
      "Time of sorting array of length 50000: 0.6278866132100424\n",
      "Time of sorting array of length 60000: 0.694132407506307\n",
      "Time of sorting array of length 70000: 0.8282483418782552\n",
      "Time of sorting array of length 80000: 0.9896380106608073\n",
      "Time of sorting array of length 90000: 1.1000486214955647\n",
      "Time of sorting array of length 100000: 1.3071043491363525\n",
      "Time of sorting array of length 110000: 1.438718557357788\n",
      "Time of sorting array of length 120000: 1.5315149625142415\n",
      "Time of sorting array of length 130000: 1.6495052973429363\n",
      "Time of sorting array of length 140000: 1.781274716059367\n",
      "Time of sorting array of length 150000: 1.9554677804311116\n"
     ]
    }
   ],
   "source": [
    "heap_sort_times = []\n",
    "for i in lists.keys():\n",
    "    length_lists = lists[i]\n",
    "    temp_times = []\n",
    "    \n",
    "    for j in length_lists:\n",
    "        temp = j.copy()\n",
    "        \n",
    "        start = time.time()\n",
    "        heapSort.heap_sort(temp, i)\n",
    "        end = time.time()\n",
    "        \n",
    "        temp_times.append(end-start)\n",
    "        \n",
    "    avr_time = sum(temp_times)/3\n",
    "    heap_sort_times.append(avr_time) \n",
    "    print(f\"Time of sorting array of length {i}: {avr_time}\")"
   ]
  },
  {
   "cell_type": "code",
   "execution_count": 15,
   "metadata": {},
   "outputs": [
    {
     "name": "stdout",
     "output_type": "stream",
     "text": [
      "Time of sorting array of length 10000: 0.05261667569478353\n",
      "Time of sorting array of length 20000: 0.13280566533406576\n",
      "Time of sorting array of length 30000: 0.1155542532602946\n",
      "Time of sorting array of length 40000: 0.14812795321146646\n",
      "Time of sorting array of length 50000: 0.19546635945638022\n",
      "Time of sorting array of length 60000: 0.2130591074625651\n",
      "Time of sorting array of length 70000: 0.24125075340270996\n",
      "Time of sorting array of length 80000: 0.2797404130299886\n",
      "Time of sorting array of length 90000: 0.31762123107910156\n",
      "Time of sorting array of length 100000: 0.3523714542388916\n",
      "Time of sorting array of length 110000: 0.4019633928934733\n",
      "Time of sorting array of length 120000: 0.4410278797149658\n",
      "Time of sorting array of length 130000: 0.4926724433898926\n",
      "Time of sorting array of length 140000: 0.5332125822703043\n",
      "Time of sorting array of length 150000: 0.5801476637522379\n"
     ]
    }
   ],
   "source": [
    "quick_sort_times = []\n",
    "for i in lists.keys():\n",
    "    length_lists = lists[i]\n",
    "    temp_times = []\n",
    "    \n",
    "    for j in length_lists:\n",
    "        temp = j.copy()\n",
    "        \n",
    "        start = time.time()\n",
    "        quickSort.quick_sort(temp, 0, i-1)\n",
    "        end = time.time()\n",
    "        \n",
    "        temp_times.append(end-start)\n",
    "        \n",
    "    avr_time = sum(temp_times)/3\n",
    "    quick_sort_times.append(avr_time) \n",
    "    print(f\"Time of sorting array of length {i}: {avr_time}\")"
   ]
  },
  {
   "cell_type": "code",
   "execution_count": 16,
   "metadata": {},
   "outputs": [
    {
     "data": {
      "image/png": "[encoded data removed]",
      "text/plain": [
       "<Figure size 432x288 with 1 Axes>"
      ]
     },
     "metadata": {
      "needs_background": "light"
     },
     "output_type": "display_data"
    }
   ],
   "source": [
    "plt.plot(lists.keys(), merge_sort_times, 'g')\n",
    "plt.plot(lists.keys(), heap_sort_times, 'b')\n",
    "plt.plot(lists.keys(), quick_sort_times, 'y')\n",
    "plt.legend([\"Merge sort\", \"Heap sort\", \"Quick sort\"])\n",
    "plt.xlabel(\"Size of array\")\n",
    "plt.ylabel(\"Time\")\n",
    "plt.title(\"Better sorts (n*log(n)\")\n",
    "plt.show()"
   ]
  },
  {
   "cell_type": "markdown",
   "metadata": {},
   "source": [
    "## Sorting in linear time\n",
    "\n",
    "- Again, because of high performance of linear sorts, we have to increase the size of our test cases to avoid noises. "
   ]
  },
  {
   "cell_type": "code",
   "execution_count": 26,
   "metadata": {},
   "outputs": [],
   "source": [
    "lists = {} # Dictionary of lists with their length as key, and 3 lists of that length as value\n",
    "\n",
    "for i in range(1,16):\n",
    "    lists[i*10**5] = [randArrGen.random_list(i * 10**5, 0, i * 10**5) for j in range(3)]"
   ]
  },
  {
   "cell_type": "code",
   "execution_count": 27,
   "metadata": {},
   "outputs": [
    {
     "name": "stdout",
     "output_type": "stream",
     "text": [
      "Time of sorting array of length 100000: 0.16066360473632812\n",
      "Time of sorting array of length 200000: 0.27098949750264484\n",
      "Time of sorting array of length 300000: 0.4018394947052002\n",
      "Time of sorting array of length 400000: 0.4505913257598877\n",
      "Time of sorting array of length 500000: 0.5695966879526774\n",
      "Time of sorting array of length 600000: 0.7174333731333414\n",
      "Time of sorting array of length 700000: 0.8483819166819254\n",
      "Time of sorting array of length 800000: 0.9591618378957113\n",
      "Time of sorting array of length 900000: 1.0823726654052734\n",
      "Time of sorting array of length 1000000: 1.231252670288086\n",
      "Time of sorting array of length 1100000: 1.3519888718922932\n",
      "Time of sorting array of length 1200000: 1.5316688219706218\n",
      "Time of sorting array of length 1300000: 1.6061152617136638\n",
      "Time of sorting array of length 1400000: 1.7466917832692463\n",
      "Time of sorting array of length 1500000: 1.8920007546742756\n"
     ]
    }
   ],
   "source": [
    "counting_sort_times = []\n",
    "for i in lists.keys():\n",
    "    length_lists = lists[i]\n",
    "    temp_times = []\n",
    "    \n",
    "    for j in length_lists:\n",
    "        temp = j.copy()\n",
    "        \n",
    "        start = time.time()\n",
    "        m = max(temp)\n",
    "        countingSort.counting_sort(temp, m, i)\n",
    "        end = time.time()\n",
    "        \n",
    "        temp_times.append(end-start)\n",
    "        \n",
    "    avr_time = sum(temp_times)/3\n",
    "    counting_sort_times.append(avr_time) \n",
    "    print(f\"Time of sorting array of length {i}: {avr_time}\")"
   ]
  },
  {
   "cell_type": "code",
   "execution_count": 29,
   "metadata": {},
   "outputs": [
    {
     "name": "stdout",
     "output_type": "stream",
     "text": [
      "Time of sorting array of length 100000: 0.5871687730153402\n",
      "Time of sorting array of length 200000: 1.162885268529256\n",
      "Time of sorting array of length 300000: 1.6257357597351074\n",
      "Time of sorting array of length 400000: 2.2206336657206216\n",
      "Time of sorting array of length 500000: 2.8269399801890054\n",
      "Time of sorting array of length 600000: 3.3146345615386963\n",
      "Time of sorting array of length 700000: 3.852781136830648\n",
      "Time of sorting array of length 800000: 4.471224784851074\n",
      "Time of sorting array of length 900000: 4.922407070795695\n",
      "Time of sorting array of length 1000000: 6.227357625961304\n",
      "Time of sorting array of length 1100000: 7.180795192718506\n",
      "Time of sorting array of length 1200000: 7.770192861557007\n",
      "Time of sorting array of length 1300000: 8.377074082692465\n",
      "Time of sorting array of length 1400000: 9.132152557373047\n",
      "Time of sorting array of length 1500000: 9.61143692334493\n"
     ]
    }
   ],
   "source": [
    "radix_sort_times = []\n",
    "from importlib import reload\n",
    "reload(radixSort)\n",
    "for i in lists.keys():\n",
    "    length_lists = lists[i]\n",
    "    temp_times = []\n",
    "    \n",
    "    for j in length_lists:\n",
    "        temp = j.copy()\n",
    "        \n",
    "        start = time.time()\n",
    "        radixSort.radix_sort(temp)\n",
    "        end = time.time()\n",
    "        \n",
    "        temp_times.append(end-start)\n",
    "        \n",
    "    avr_time = sum(temp_times)/3\n",
    "    radix_sort_times.append(avr_time) \n",
    "    print(f\"Time of sorting array of length {i}: {avr_time}\")"
   ]
  },
  {
   "cell_type": "code",
   "execution_count": 31,
   "metadata": {},
   "outputs": [
    {
     "name": "stdout",
     "output_type": "stream",
     "text": [
      "Time of sorting array of length 100000: 0.6105388800303141\n",
      "Time of sorting array of length 200000: 1.4096158345540364\n",
      "Time of sorting array of length 300000: 1.774167537689209\n",
      "Time of sorting array of length 400000: 2.599822521209717\n",
      "Time of sorting array of length 500000: 2.7968860467274985\n",
      "Time of sorting array of length 600000: 3.4217652479807534\n",
      "Time of sorting array of length 700000: 3.686129649480184\n",
      "Time of sorting array of length 800000: 4.155517578125\n",
      "Time of sorting array of length 900000: 4.283142646153768\n",
      "Time of sorting array of length 1000000: 4.778863747914632\n",
      "Time of sorting array of length 1100000: 5.270521640777588\n",
      "Time of sorting array of length 1200000: 5.595555861790975\n",
      "Time of sorting array of length 1300000: 5.746547222137451\n",
      "Time of sorting array of length 1400000: 6.049718936284383\n",
      "Time of sorting array of length 1500000: 6.814434448877971\n"
     ]
    }
   ],
   "source": [
    "bucket_sort_times = []\n",
    "from importlib import reload\n",
    "reload(radixSort)\n",
    "for i in lists.keys():\n",
    "    length_lists = lists[i]\n",
    "    temp_times = []\n",
    "    \n",
    "    for j in length_lists:\n",
    "        temp = j.copy()\n",
    "        \n",
    "        start = time.time()\n",
    "        temp = bucketSort.bucket_sort(temp, i)\n",
    "        end = time.time()\n",
    "        \n",
    "        temp_times.append(end-start)\n",
    "        \n",
    "    avr_time = sum(temp_times)/3\n",
    "    bucket_sort_times.append(avr_time) \n",
    "    print(f\"Time of sorting array of length {i}: {avr_time}\")"
   ]
  },
  {
   "cell_type": "code",
   "execution_count": 32,
   "metadata": {},
   "outputs": [
    {
     "data": {
      "image/png": "[encoded data removed]",
      "text/plain": [
       "<Figure size 432x288 with 1 Axes>"
      ]
     },
     "metadata": {
      "needs_background": "light"
     },
     "output_type": "display_data"
    }
   ],
   "source": [
    "plt.plot(lists.keys(), counting_sort_times, 'g')\n",
    "plt.plot(lists.keys(), radix_sort_times, 'b')\n",
    "plt.plot(lists.keys(), bucket_sort_times, 'y')\n",
    "plt.legend([\"Counting sort\", \"Radix sort\", \"Bucket sort\"])\n",
    "plt.xlabel(\"Size of array\")\n",
    "plt.ylabel(\"Time\")\n",
    "plt.title(\"linear sorts (n)\")\n",
    "plt.show()"
   ]
  },
  {
   "cell_type": "code",
   "execution_count": null,
   "metadata": {},
   "outputs": [],
   "source": []
  }
 ],
 "metadata": {
  "kernelspec": {
   "display_name": "Python 3",
   "language": "python",
   "name": "python3"
  },
  "language_info": {
   "codemirror_mode": {
    "name": "ipython",
    "version": 3
   },
   "file_extension": ".py",
   "mimetype": "text/x-python",
   "name": "python",
   "nbconvert_exporter": "python",
   "pygments_lexer": "ipython3",
   "version": "3.10.12"
  }
 },
 "nbformat": 4,
 "nbformat_minor": 2
}
